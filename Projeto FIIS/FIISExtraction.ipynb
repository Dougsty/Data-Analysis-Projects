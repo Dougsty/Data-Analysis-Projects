{
 "cells": [
  {
   "cell_type": "code",
   "execution_count": 12,
   "metadata": {},
   "outputs": [],
   "source": [
    "#Imports de Bibliotecas\n",
    "import requests\n",
    "import os\n",
    "import pandas as pd\n",
    "import warnings\n",
    "import time\n",
    "from datetime import datetime\n",
    "import pyodbc\n",
    "warnings.filterwarnings(\"ignore\")\n",
    "data_atual = datetime.now().strftime('%m-%d-%Y')"
   ]
  },
  {
   "cell_type": "code",
   "execution_count": 13,
   "metadata": {},
   "outputs": [],
   "source": [
    "#Esse seria os dados concatenados via historico\n",
    "\n",
    "nometabelaestruturada = 'D:/Backup/Estudos Python/Projetos/Historico de fees/Fiis {}.xlsx'.format(data_atual)\n",
    "def importar_fiis(url = 'https://www.clubefii.com.br/fundos_imobiliarios_ranking/2024#'):\n",
    "    # Configurações iniciais\n",
    "    headers = {\n",
    "        'User-Agent': \n",
    "            'Mozilla/5.0 (Macintosh; Intel Mac OS X 10_11_4) AppleWebKit/537.36 (KHTML, like Gecko) Chrome/51.0.2704.103 Safari/537.36'\n",
    "    }\n",
    "\n",
    "    # Requisição HTTP para obter dados\n",
    "    response = requests.get(url, headers=headers)\n",
    "\n",
    "    if response.status_code == 200:\n",
    "        df = pd.read_html(response.content, encoding='utf-8')[0]\n",
    "    else:\n",
    "        raise ValueError('Erro ao obter dados da URL.')\n",
    "\n",
    "    # Estruturação dos dados\n",
    "    df[['Valor da Ação', 'Variação', 'Data', 'Hora', 'Resto']] = df['COTAÇÃO ATUAL'].str.split(' ', n=4, expand=True)\n",
    "    excl = ['VARIAÇÃO COTA  EM 2024', 'VARIAÇÃO COTA + PROVENTOS  EM 2024', 'Resto', 'COTAÇÃO ATUAL',\n",
    "            'UPSIDE/DOWNSIDE PARA ATINGIR VALOR PATRIMONIAL', 'FEED']\n",
    "    df = df.drop(columns=excl)\n",
    "    df = df[['CÓDIGO', 'NOME', 'Valor da Ação', 'Variação', 'P/VPA', 'Data', 'Hora',\n",
    "             'YIELD  1 MES', 'YIELD  3 MESES', 'YIELD  6 MESES', 'YIELD  12 MESES']]\n",
    "\n",
    "    # Conversão de tipos e limpeza de dados\n",
    "    float_columns = ['Valor da Ação', 'Variação', 'YIELD  1 MES', 'YIELD  3 MESES', 'YIELD  6 MESES', 'YIELD  12 MESES']\n",
    "    for col in float_columns:\n",
    "        df[col] = df[col].str.replace(',', '.').str.replace('%', '').str.replace('N/D', '0').astype(float)\n",
    "    \n",
    "\n",
    "    df.to_excel(nometabelaestruturada, index=False)\n",
    "    \n",
    "    return df\n",
    "\n",
    "df= importar_fiis()\n"
   ]
  },
  {
   "cell_type": "code",
   "execution_count": 14,
   "metadata": {},
   "outputs": [],
   "source": [
    "#Criar e formatar o historico em excel\n",
    "def criar_historico_fiis(diretorio = 'D:/Backup/Estudos Python/Projetos/Historico de fees'):\n",
    "    # Lista para armazenar os DataFrames de cada arquivo Excel\n",
    "    df_hist = []\n",
    "\n",
    "    # Loop pelos arquivos Excel no diretório\n",
    "    for arquivo in os.listdir(diretorio):\n",
    "        if arquivo.endswith('.xlsx'):\n",
    "            caminho_arquivo = os.path.join(diretorio, arquivo)\n",
    "            df = pd.read_excel(caminho_arquivo)\n",
    "            df_hist.append(df)\n",
    "\n",
    "    dados_empilhados = pd.concat(df_hist, ignore_index=True)\n",
    "    \n",
    "    dados_empilhados = dados_empilhados.drop(columns=['Dividendo experado'])\n",
    "    dados_empilhados['DI Mensal'] = (dados_empilhados['Valor da Ação'] * (dados_empilhados['YIELD  1 MES'] / 100)).astype(float)\n",
    "    dados_empilhados['Data'] = pd.to_datetime(dados_empilhados['Data'], dayfirst=True)\n",
    "    dados_empilhados['Data'] = dados_empilhados['Data'].dt.strftime('%d/%m/%Y')\n",
    "    dados_empilhados['P/VPA'] = (dados_empilhados['P/VPA'] / 100).astype(float)\n",
    "    \n",
    "    dados_empilhados.to_excel('D:/Backup/Estudos Python/Projetos/Fiis_Historico.xlsx', index=False)\n",
    "   \n",
    "    return dados_empilhados"
   ]
  },
  {
   "cell_type": "code",
   "execution_count": 15,
   "metadata": {},
   "outputs": [],
   "source": [
    "#Construção de DATAFRAME\n",
    "\n",
    "df = criar_historico_fiis()\n",
    "\n",
    "# Cria a conexão com o SQL Server passando os parametros (Servidor, Usuário, Senha, Database)\n",
    "\n",
    "dados_conexao = (\n",
    "    'Driver={SQL Server};'\n",
    "    'Server=Doug;'\n",
    "    'Database=PythonSQL;'\n",
    ")\n",
    "conexao = pyodbc.connect(dados_conexao)\n",
    "cursor = conexao.cursor()"
   ]
  },
  {
   "cell_type": "code",
   "execution_count": 16,
   "metadata": {},
   "outputs": [],
   "source": [
    "#APAGAR DADOS \n",
    "sql_table = 'FIIHIST'\n",
    "\n",
    "cursor.execute('TRUNCATE TABLE {}'.format(sql_table))\n",
    "cursor.execute('DROP TABLE {}'.format(sql_table))\n",
    "cursor.commit()"
   ]
  },
  {
   "cell_type": "code",
   "execution_count": 17,
   "metadata": {},
   "outputs": [],
   "source": [
    "# Monta a query de criação da tabela com colunas flexíveis \n",
    "create_table_query = 'CREATE TABLE {} ('.format(sql_table)\n",
    "for coluna in df.columns:\n",
    "    if df[coluna].dtype == 'object':\n",
    "        tipo_coluna = 'VARCHAR(255)'\n",
    "    elif df[coluna].dtype == 'int64':\n",
    "        tipo_coluna = 'INT'\n",
    "    elif df[coluna].dtype == 'float64':\n",
    "        tipo_coluna = 'FLOAT'\n",
    "    else:\n",
    "        tipo_coluna = 'VARCHAR(255)'\n",
    "    create_table_query += f'[{coluna}] {tipo_coluna}, '\n",
    "\n",
    "# Remove a última vírgula e fecha a query\n",
    "create_table_query = create_table_query[:-2] + ')'\n",
    "\n",
    "# Executa a query para criar a tabela\n",
    "cursor.execute(create_table_query)\n",
    "conexao.commit()"
   ]
  },
  {
   "cell_type": "code",
   "execution_count": 18,
   "metadata": {},
   "outputs": [],
   "source": [
    "# Monta a query de inserção da tabela com colunas flexíveis\n",
    "placeholders = ', '.join(['?' for _ in range(len(df.columns))])\n",
    "colunas = ', '.join([f'[{coluna}]' for coluna in df.columns])\n",
    "sql = f'INSERT INTO FIIHIST ({colunas}) VALUES ({placeholders})'\n",
    "\n",
    "# Itera pelas linhas do DataFrame e insere os dados na tabela\n",
    "for _, row in df.iterrows():\n",
    "    val = tuple(row.values)\n",
    "    cursor.execute(sql, val)\n",
    "    conexao.commit()"
   ]
  }
 ],
 "metadata": {
  "kernelspec": {
   "display_name": "Python 3",
   "language": "python",
   "name": "python3"
  },
  "language_info": {
   "codemirror_mode": {
    "name": "ipython",
    "version": 3
   },
   "file_extension": ".py",
   "mimetype": "text/x-python",
   "name": "python",
   "nbconvert_exporter": "python",
   "pygments_lexer": "ipython3",
   "version": "3.12.2"
  }
 },
 "nbformat": 4,
 "nbformat_minor": 2
}
